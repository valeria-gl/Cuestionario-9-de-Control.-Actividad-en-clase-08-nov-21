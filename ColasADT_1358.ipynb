{
  "nbformat": 4,
  "nbformat_minor": 0,
  "metadata": {
    "colab": {
      "name": "ColasADT_1358.ipynb",
      "provenance": [],
      "authorship_tag": "ABX9TyOeO8/qilt9lr8fZTEMds+n",
      "include_colab_link": true
    },
    "kernelspec": {
      "name": "python3",
      "display_name": "Python 3"
    },
    "language_info": {
      "name": "python"
    }
  },
  "cells": [
    {
      "cell_type": "markdown",
      "metadata": {
        "id": "view-in-github",
        "colab_type": "text"
      },
      "source": [
        "<a href=\"https://colab.research.google.com/github/valeria-gl/Cuestionario-9-de-Control.-Actividad-en-clase-08-nov-21/blob/main/ColasADT_1358.ipynb\" target=\"_parent\"><img src=\"https://colab.research.google.com/assets/colab-badge.svg\" alt=\"Open In Colab\"/></a>"
      ]
    },
    {
      "cell_type": "code",
      "metadata": {
        "id": "XjTyKqZuxYhm"
      },
      "source": [
        "class QueueADT:\n",
        "  def __init__(self):\n",
        "    self.__data = []\n",
        "\n",
        "  def is_empty(self):\n",
        "    return len(self.__data) == 0\n",
        "  \n",
        "  def length(self):\n",
        "    return len(self.__data)\n",
        "  \n",
        "  def enqueue(self, dato):\n",
        "    self.__data.append(dato)\n",
        "\n",
        "  def dequeue(self):\n",
        "    if not self.is_empty():\n",
        "      return self.__data.pop(0)\n",
        "  \n",
        "  def to_string(self):\n",
        "    for x in self.__data:\n",
        "      print(f\"|  {x}  | <--\", end=\" \")\n",
        "    print(\"\")"
      ],
      "execution_count": 7,
      "outputs": []
    },
    {
      "cell_type": "code",
      "metadata": {
        "colab": {
          "base_uri": "https://localhost:8080/"
        },
        "id": "gBdKgDIgyADm",
        "outputId": "de8cff91-8727-4866-b551-4782fa5e4fde"
      },
      "source": [
        "cola = QueueADT()\n",
        "print(\"¿Está vacio?\", cola.is_empty())\n",
        "print(\"Número de elementos: \", cola.length())\n",
        "cola.enqueue(10)\n",
        "cola.to_string()\n",
        "print(\"-.-.-.-.-.-.-.-.-.\")\n",
        "cola.enqueue(20)\n",
        "cola.enqueue(30)\n",
        "cola.enqueue(40)\n",
        "cola.to_string()\n",
        "siguiente = cola.dequeue()\n",
        "print(\"\\n Atendiendo a: \", siguiente)\n",
        "cola.to_string()"
      ],
      "execution_count": 8,
      "outputs": [
        {
          "output_type": "stream",
          "name": "stdout",
          "text": [
            "¿Está vacio? True\n",
            "Número de elementos:  0\n",
            "|  10  | <-- \n",
            "-.-.-.-.-.-.-.-.-.\n",
            "|  10  | <-- |  20  | <-- |  30  | <-- |  40  | <-- \n",
            "\n",
            " Atendiendo a:  10\n",
            "|  20  | <-- |  30  | <-- |  40  | <-- \n"
          ]
        }
      ]
    }
  ]
}